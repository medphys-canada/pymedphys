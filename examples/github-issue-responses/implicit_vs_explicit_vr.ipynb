{
 "cells": [
  {
   "cell_type": "code",
   "execution_count": null,
   "metadata": {},
   "outputs": [],
   "source": [
    "import io\n",
    "import difflib\n",
    "\n",
    "import pydicom\n",
    "\n",
    "from pymedphys._dicom import create"
   ]
  },
  {
   "cell_type": "code",
   "execution_count": null,
   "metadata": {},
   "outputs": [],
   "source": [
    "dataset = create.dicom_dataset_from_dict(\n",
    "    {\n",
    "        \"BeamSequence\": [\n",
    "            {\"TreatmentMachineName\": \"hello\"},\n",
    "            {\"TreatmentMachineName\": \"george\"},\n",
    "        ]\n",
    "    }\n",
    ")\n",
    "\n",
    "dataset.is_little_endian = True"
   ]
  },
  {
   "cell_type": "code",
   "execution_count": null,
   "metadata": {},
   "outputs": [],
   "source": [
    "dataset.is_implicit_VR = True\n",
    "implicit_vr = io.BytesIO()\n",
    "dataset.save_as(implicit_vr)\n",
    "\n",
    "implicit_vr.seek(0)\n",
    "implicit_vr.read()"
   ]
  },
  {
   "cell_type": "code",
   "execution_count": null,
   "metadata": {},
   "outputs": [],
   "source": [
    "dataset.is_implicit_VR = False\n",
    "explicit_vr = io.BytesIO()\n",
    "dataset.save_as(explicit_vr)\n",
    "\n",
    "explicit_vr.seek(0)\n",
    "explicit_vr.read()"
   ]
  },
  {
   "cell_type": "code",
   "execution_count": null,
   "metadata": {},
   "outputs": [],
   "source": [
    "implicit_file_dataset = pydicom.dcmread(implicit_vr, force=True)\n",
    "explicit_file_dataset = pydicom.dcmread(explicit_vr, force=True)"
   ]
  },
  {
   "cell_type": "code",
   "execution_count": null,
   "metadata": {},
   "outputs": [],
   "source": [
    "implicit_file_dataset"
   ]
  },
  {
   "cell_type": "code",
   "execution_count": null,
   "metadata": {},
   "outputs": [],
   "source": [
    "explicit_file_dataset"
   ]
  }
 ],
 "metadata": {
  "kernelspec": {
   "display_name": "pymedphys-master",
   "language": "python",
   "name": "pymedphys-master"
  },
  "language_info": {
   "codemirror_mode": {
    "name": "ipython",
    "version": 3
   },
   "file_extension": ".py",
   "mimetype": "text/x-python",
   "name": "python",
   "nbconvert_exporter": "python",
   "pygments_lexer": "ipython3",
   "version": "3.7.5"
  }
 },
 "nbformat": 4,
 "nbformat_minor": 4
}
