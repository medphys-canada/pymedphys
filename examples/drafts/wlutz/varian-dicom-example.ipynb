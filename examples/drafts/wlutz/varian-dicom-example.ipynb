{
 "cells": [
  {
   "cell_type": "markdown",
   "metadata": {},
   "source": [
    "# Winston Lutz from Varian DICOM images\n",
    "\n",
    "Here is a notebook demonstrating pulling images out of DICOM files, finding both the field position and the BB position within it.\n",
    "\n",
    "\n",
    "## Disclaimer\n",
    "\n",
    "All pixel size extraction code given here has not been appropriately validated.\n",
    "I do not have access to a Varian Linac. Validation of this example from a Varian user would be appreciated. Please raise an issue via https://github.com/pymedphys/pymedphys/issues/new to either confirm that you have been able to validate this or provide a counter example to where there are issues here."
   ]
  },
  {
   "cell_type": "code",
   "execution_count": null,
   "metadata": {},
   "outputs": [],
   "source": [
    "import numpy as np\n",
    "import matplotlib.pyplot as plt\n",
    "\n",
    "import IPython.display\n",
    "\n",
    "import pydicom"
   ]
  },
  {
   "cell_type": "code",
   "execution_count": null,
   "metadata": {},
   "outputs": [],
   "source": [
    "# Makes it so any changes in pymedphys is automatically\n",
    "# propagated into the notebook without needing a kernel reset.\n",
    "from IPython.lib.deepreload import reload\n",
    "%load_ext autoreload\n",
    "%autoreload 2"
   ]
  },
  {
   "cell_type": "code",
   "execution_count": null,
   "metadata": {},
   "outputs": [],
   "source": [
    "import pymedphys\n",
    "import pymedphys.wlutz"
   ]
  },
  {
   "cell_type": "markdown",
   "metadata": {},
   "source": [
    "## Initialising field penumbra and ball bearing diameter\n",
    "\n",
    "The `pymedphys` code aims to match opposing penumbras of the field. To do this it uses a penumbra width parameter. A value of 2 (mm) is usually sufficient here. The `bb_diameter` parameter is used to define the diameter of the ball bearing used within the image."
   ]
  },
  {
   "cell_type": "code",
   "execution_count": null,
   "metadata": {},
   "outputs": [],
   "source": [
    "penumbra = 2\n",
    "bb_diameter = 8"
   ]
  },
  {
   "cell_type": "markdown",
   "metadata": {},
   "source": [
    "## Download some example files\n",
    "\n",
    "For our purpose here, let's download some files. They will download into a `.pymedphys` directory within your home drive."
   ]
  },
  {
   "cell_type": "code",
   "execution_count": null,
   "metadata": {},
   "outputs": [],
   "source": [
    "dicom_wlutz_paths = pymedphys.zip_data_paths('denis_wlutz_images.zip')\n",
    "dicom_wlutz_paths"
   ]
  },
  {
   "cell_type": "code",
   "execution_count": null,
   "metadata": {},
   "outputs": [],
   "source": [
    "dicom_files = [pydicom.dcmread(str(path), force=True) for path in dicom_wlutz_paths]"
   ]
  },
  {
   "cell_type": "markdown",
   "metadata": {},
   "source": [
    "## Defining a grid and field size extraction function\n",
    "\n",
    "So as to appropriately scale the image the pixel scaling is extracted from the DICOM header. This is the part of this example that has not undergone appropriate validation. The field size is also extracted from the DICOM header here."
   ]
  },
  {
   "cell_type": "code",
   "execution_count": null,
   "metadata": {},
   "outputs": [],
   "source": [
    "def get_parameters_from_dicom(dicom_header):\n",
    "    sad = float(dicom_header.RadiationMachineSAD)\n",
    "    panel_adjustment = -float(dicom_header.XRayImageReceptorTranslation[2])\n",
    "    panel_ssd = panel_adjustment + sad\n",
    "\n",
    "    guess_at_pixel_spacing_at_iso = np.array(dicom_header.ImagePlanePixelSpacing).astype(float) / panel_ssd * sad\n",
    "    dx, dy = guess_at_pixel_spacing_at_iso\n",
    "    \n",
    "    half_range_x = dicom_header.Columns * dy / 2\n",
    "    half_range_y = dicom_header.Rows * dx / 2\n",
    "    \n",
    "    x = np.linspace(-half_range_x, half_range_x, dicom_header.Columns)\n",
    "    y = np.linspace(-half_range_y, half_range_y, dicom_header.Rows)\n",
    "    \n",
    "    jaw_pos = {\n",
    "        coll.RTBeamLimitingDeviceType: np.array(coll.LeafJawPositions).astype(float)\n",
    "        for coll in dicom_header.ExposureSequence[0].BeamLimitingDeviceSequence\n",
    "    }\n",
    "\n",
    "    field_size_x = np.diff(jaw_pos['ASYMX'])[0]\n",
    "    field_size_y = np.diff(jaw_pos['ASYMY'])[0]\n",
    "\n",
    "    edge_lengths = [field_size_x, field_size_y]\n",
    "    \n",
    "    return x, y, edge_lengths\n",
    "\n",
    "\n",
    "get_parameters_from_dicom(dicom_files[0])"
   ]
  },
  {
   "cell_type": "markdown",
   "metadata": {},
   "source": [
    "## Extracting Gantry and Collimator angles\n",
    "\n",
    "So as to report the gantry and collimator positions for each image they are extracted."
   ]
  },
  {
   "cell_type": "code",
   "execution_count": null,
   "metadata": {},
   "outputs": [],
   "source": [
    "gantries = np.array([\n",
    "    np.round(dcm.GantryAngle, 2) for dcm in dicom_files\n",
    "])\n",
    "\n",
    "gantries"
   ]
  },
  {
   "cell_type": "code",
   "execution_count": null,
   "metadata": {},
   "outputs": [],
   "source": [
    "colls = np.array([\n",
    "    np.round(dcm.BeamLimitingDeviceAngle, 2) for dcm in dicom_files\n",
    "])\n",
    "\n",
    "colls"
   ]
  },
  {
   "cell_type": "markdown",
   "metadata": {},
   "source": [
    "## Running the analysis\n",
    "\n",
    "Here each image is analysed and reported. By seeing the overlay of the field and bb on the image, as well as seeing the profiles flipped about the reported respective centres it is possible to visually validate that the software has appropriately (or not) found the correct locations in each image."
   ]
  },
  {
   "cell_type": "code",
   "execution_count": null,
   "metadata": {},
   "outputs": [],
   "source": [
    "def display_markdown(string):\n",
    "    IPython.display.display(IPython.display.Markdown(string))"
   ]
  },
  {
   "cell_type": "code",
   "execution_count": null,
   "metadata": {},
   "outputs": [],
   "source": [
    "for dcm, coll, gantry in zip(dicom_files, colls, gantries):\n",
    "    img = dcm.pixel_array[::-1, :] / 2 ** 16 \n",
    "    x, y, edge_lengths = get_parameters_from_dicom(dcm)\n",
    "    \n",
    "    display_markdown(f'## Gantry {coll} | Collimator {gantry}')\n",
    "    \n",
    "    bb_centre, field_centre, field_rotation = pymedphys.wlutz.find_field_and_bb(\n",
    "        x,\n",
    "        y,\n",
    "        img,\n",
    "        edge_lengths,\n",
    "        bb_diameter,\n",
    "        penumbra=2,\n",
    "        fixed_rotation=coll,\n",
    "        pylinac_tol=0.2\n",
    "    )   \n",
    "\n",
    "    pymedphys.wlutz.reporting( \n",
    "        x,\n",
    "        y,\n",
    "        img,\n",
    "        bb_centre,\n",
    "        field_centre,\n",
    "        field_rotation,\n",
    "        bb_diameter,\n",
    "        edge_lengths,\n",
    "        penumbra,\n",
    "    )\n",
    "    \n",
    "    deviation = np.round(np.array(field_centre) - np.array(bb_centre), 2)\n",
    "    \n",
    "    display_markdown(\n",
    "        f'PyMedPhys field centre - BB centre (mm):\\n\\n```python\\n[x, y] = [{deviation[0]}, {deviation[1]}]\\n```'\n",
    "    )\n",
    "    plt.show()"
   ]
  }
 ],
 "metadata": {
  "kernelspec": {
   "display_name": "Python 3",
   "language": "python",
   "name": "python3"
  },
  "language_info": {
   "codemirror_mode": {
    "name": "ipython",
    "version": 3
   },
   "file_extension": ".py",
   "mimetype": "text/x-python",
   "name": "python",
   "nbconvert_exporter": "python",
   "pygments_lexer": "ipython3",
   "version": "3.8.2"
  },
  "nbsphinx": {
   "timeout": 600
  }
 },
 "nbformat": 4,
 "nbformat_minor": 4
}
